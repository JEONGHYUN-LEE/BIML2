{
  "cells": [
    {
      "cell_type": "code",
      "execution_count": 1,
      "metadata": {
        "id": "n0_AtXp63x-D"
      },
      "outputs": [],
      "source": [
        "import tensorflow as tf\n",
        "import tensorflow.keras as tk\n",
        "from tensorflow.keras import Model\n",
        "import matplotlib.pyplot as plt\n",
        "import numpy as np"
      ]
    },
    {
      "cell_type": "markdown",
      "metadata": {
        "id": "D9IZk8Q0gaYL"
      },
      "source": [
        "# 데이터셋 준비하기"
      ]
    },
    {
      "cell_type": "markdown",
      "metadata": {
        "id": "TVgdN9h1fFLe"
      },
      "source": [
        "## 데이터 불러오기 & 정규화"
      ]
    },
    {
      "cell_type": "code",
      "execution_count": 2,
      "metadata": {
        "colab": {
          "base_uri": "https://localhost:8080/"
        },
        "id": "KGZyLJY937K9",
        "outputId": "4fecd3e2-6365-43a9-b402-f257c544df60"
      },
      "outputs": [
        {
          "output_type": "stream",
          "name": "stdout",
          "text": [
            "학습 데이터:  (60000, 28, 28) 테스트 데이터:  (10000, 28, 28)\n"
          ]
        }
      ],
      "source": [
        "(x_train, y_train), (x_test, y_test) = tf.keras.datasets.fashion_mnist.load_data()\n",
        "x_train, x_test = x_train / 255.0, x_test / 255.0\n",
        "print(\"학습 데이터: \",x_train.shape, \"테스트 데이터: \",x_test.shape)"
      ]
    },
    {
      "cell_type": "markdown",
      "metadata": {
        "id": "cICAYA1kfL6B"
      },
      "source": [
        "## 이미지 데이터 채널 추가"
      ]
    },
    {
      "cell_type": "code",
      "execution_count": 3,
      "metadata": {
        "colab": {
          "base_uri": "https://localhost:8080/"
        },
        "id": "UUCvW9ei4Dm8",
        "outputId": "420bdda1-8bc7-405c-fdb1-a6ce67101735"
      },
      "outputs": [
        {
          "output_type": "stream",
          "name": "stdout",
          "text": [
            "채널 추가 후 학습 데이터:  (60000, 28, 28, 1) 채널 추가 후 테스트 데이터:  (10000, 28, 28, 1)\n"
          ]
        }
      ],
      "source": [
        "# Add a channels dimension\n",
        "x_train = x_train[..., tf.newaxis].astype(\"float32\")\n",
        "x_test = x_test[..., tf.newaxis].astype(\"float32\")\n",
        "print(\"채널 추가 후 학습 데이터: \",x_train.shape, \"채널 추가 후 테스트 데이터: \",x_test.shape)"
      ]
    },
    {
      "cell_type": "markdown",
      "metadata": {
        "id": "i7pkOuSog-Or"
      },
      "source": [
        "## 모델 입력을 위한 batch 단위 입력 분할 및 확인"
      ]
    },
    {
      "cell_type": "code",
      "execution_count": 4,
      "metadata": {
        "colab": {
          "base_uri": "https://localhost:8080/"
        },
        "id": "CNCf5rdU4Iv3",
        "outputId": "13054c75-cca4-4560-dc9a-f21a1c397178"
      },
      "outputs": [
        {
          "output_type": "stream",
          "name": "stdout",
          "text": [
            "(100, 28, 28, 1)\n",
            "(100,)\n"
          ]
        }
      ],
      "source": [
        "train_ds = tf.data.Dataset.from_tensor_slices((x_train, y_train)).shuffle(10000).batch(100)\n",
        "test_ds = tf.data.Dataset.from_tensor_slices((x_test, y_test)).batch(100)\n",
        "# batch 단위 slice된 데이터 확인\n",
        "\n",
        "batch = next(iter(train_ds))\n",
        "for i in range(len(batch)):\n",
        "    print(batch[i].shape)\n"
      ]
    },
    {
      "cell_type": "markdown",
      "metadata": {
        "id": "IVf0eO7DhL6O"
      },
      "source": [
        "# 모델 정의하기"
      ]
    },
    {
      "cell_type": "markdown",
      "metadata": {
        "id": "XFybvZ0IhXBN"
      },
      "source": [
        "Random input 생성"
      ]
    },
    {
      "cell_type": "code",
      "execution_count": 5,
      "metadata": {
        "colab": {
          "base_uri": "https://localhost:8080/"
        },
        "id": "pFPU-EwwhV6m",
        "outputId": "c585dc73-85c7-4553-b0cc-17565eab85ec"
      },
      "outputs": [
        {
          "output_type": "stream",
          "name": "stdout",
          "text": [
            "random input shape:  (100, 28, 28, 1)\n"
          ]
        }
      ],
      "source": [
        "batch_size = 100\n",
        "input = tf.random.normal(shape=[100, 28, 28, 1])\n",
        "print('random input shape: ', input.shape)"
      ]
    },
    {
      "cell_type": "markdown",
      "metadata": {
        "id": "A7djkClEhrrF"
      },
      "source": [
        "Convolution layer 정의"
      ]
    },
    {
      "cell_type": "code",
      "execution_count": 6,
      "metadata": {
        "id": "oAwveyIChwf6"
      },
      "outputs": [],
      "source": [
        "conv_layer = tk.layers.Conv2D(filters=32, kernel_size=3)"
      ]
    },
    {
      "cell_type": "code",
      "execution_count": 7,
      "metadata": {
        "colab": {
          "base_uri": "https://localhost:8080/"
        },
        "id": "QFWAgk_Piby-",
        "outputId": "2fb828ed-6963-40a7-d178-3abb838ac23b"
      },
      "outputs": [
        {
          "output_type": "stream",
          "name": "stdout",
          "text": [
            "output shape:  (100, 26, 26, 32)\n"
          ]
        }
      ],
      "source": [
        "output = conv_layer(input)\n",
        "print('output shape: ', output.shape)"
      ]
    },
    {
      "cell_type": "markdown",
      "source": [
        "Maxpooling layer 정의"
      ],
      "metadata": {
        "id": "q-LwXz_KEaWF"
      }
    },
    {
      "cell_type": "code",
      "source": [
        "maxpool_layer = tk.layers.MaxPool2D(pool_size=2)"
      ],
      "metadata": {
        "id": "GlJ2rdkVEZyt"
      },
      "execution_count": 8,
      "outputs": []
    },
    {
      "cell_type": "code",
      "source": [
        "output = maxpool_layer(output)\n",
        "print('output shape: ', output.shape)"
      ],
      "metadata": {
        "id": "bzS_3LFNExb_",
        "outputId": "71d61ecc-5fbd-4d2a-fe98-3ef47475e2af",
        "colab": {
          "base_uri": "https://localhost:8080/"
        }
      },
      "execution_count": 9,
      "outputs": [
        {
          "output_type": "stream",
          "name": "stdout",
          "text": [
            "output shape:  (100, 13, 13, 32)\n"
          ]
        }
      ]
    },
    {
      "cell_type": "markdown",
      "metadata": {
        "id": "qFbm338rfYIH"
      },
      "source": [
        "## CNN 모델 정의\n",
        "\n",
        "Convolution layer와 Dense layer로 구성된 CNN model을 class로 정의"
      ]
    },
    {
      "cell_type": "code",
      "execution_count": 21,
      "metadata": {
        "id": "17IzZdD-4NiB"
      },
      "outputs": [],
      "source": [
        "class ConvolutionNeuralNet1(Model):\n",
        "  def __init__(self):\n",
        "    super(ConvolutionNeuralNet1, self).__init__()\n",
        "    self.conv1 = tk.layers.Conv2D(16, 3, activation='relu')\n",
        "    self.maxpool1 = tk.layers.MaxPool2D(2)\n",
        "    self.flatten = tk.layers.Flatten()\n",
        "    self.d1 = tk.layers.Dense(128, activation='relu')\n",
        "    self.d2 = tk.layers.Dense(10)\n",
        "\n",
        "  def call(self, x):\n",
        "    x = self.conv1(x)\n",
        "    x = self.maxpool1(x)\n",
        "    x = self.flatten(x)\n",
        "    x = self.d1(x)\n",
        "    return self.d2(x)"
      ]
    },
    {
      "cell_type": "markdown",
      "metadata": {
        "id": "1E_8eEWki3ZS"
      },
      "source": [
        "# 모델 학습"
      ]
    },
    {
      "cell_type": "markdown",
      "metadata": {
        "id": "v_MQ-Neli5i-"
      },
      "source": [
        "모델 인스턴스 생성"
      ]
    },
    {
      "cell_type": "code",
      "execution_count": 22,
      "metadata": {
        "colab": {
          "base_uri": "https://localhost:8080/"
        },
        "id": "cbIEGohsi87c",
        "outputId": "307d8aa9-aa98-44f9-f361-7c47ecb7b7f6"
      },
      "outputs": [
        {
          "output_type": "stream",
          "name": "stdout",
          "text": [
            "Model: \"convolution_neural_net1_1\"\n",
            "_________________________________________________________________\n",
            " Layer (type)                Output Shape              Param #   \n",
            "=================================================================\n",
            " conv2d_4 (Conv2D)           multiple                  160       \n",
            "                                                                 \n",
            " max_pooling2d_4 (MaxPooling  multiple                 0         \n",
            " 2D)                                                             \n",
            "                                                                 \n",
            " flatten_2 (Flatten)         multiple                  0         \n",
            "                                                                 \n",
            " dense_4 (Dense)             multiple                  346240    \n",
            "                                                                 \n",
            " dense_5 (Dense)             multiple                  1290      \n",
            "                                                                 \n",
            "=================================================================\n",
            "Total params: 347,690\n",
            "Trainable params: 347,690\n",
            "Non-trainable params: 0\n",
            "_________________________________________________________________\n"
          ]
        }
      ],
      "source": [
        "model = ConvolutionNeuralNet1()\n",
        "input_shape = (1,28,28,1)\n",
        "model.build(input_shape)\n",
        "model.summary()"
      ]
    },
    {
      "cell_type": "markdown",
      "metadata": {
        "id": "-3JHF8rBjL-E"
      },
      "source": [
        "모델 학습을 위한 loss 함수와 optimizer 정의"
      ]
    },
    {
      "cell_type": "code",
      "execution_count": 23,
      "metadata": {
        "id": "Wz5trQTA4ShA"
      },
      "outputs": [],
      "source": [
        "lr = 0.001\n",
        "loss_object = tf.keras.losses.SparseCategoricalCrossentropy(from_logits=True)\n",
        "\n",
        "optimizer = tf.keras.optimizers.Adam(learning_rate=lr,)"
      ]
    },
    {
      "cell_type": "markdown",
      "metadata": {
        "id": "PF_8D7YkjTG0"
      },
      "source": [
        "성능 평가 지표인 평균 loss와 accuracy를 학습 데이터셋과 테스트 데이터셋에 대해서 각각 정의"
      ]
    },
    {
      "cell_type": "code",
      "execution_count": 24,
      "metadata": {
        "id": "eirXt-EG5mW3"
      },
      "outputs": [],
      "source": [
        "train_loss = tf.keras.metrics.Mean(name='train_loss')\n",
        "train_accuracy = tf.keras.metrics.SparseCategoricalAccuracy(name='train_accuracy')\n",
        "\n",
        "test_loss = tf.keras.metrics.Mean(name='test_loss')\n",
        "test_accuracy = tf.keras.metrics.SparseCategoricalAccuracy(name='test_accuracy')"
      ]
    },
    {
      "cell_type": "markdown",
      "metadata": {
        "id": "5FZJDIDUjZX8"
      },
      "source": [
        "## 학습 및 추론 함수 작성"
      ]
    },
    {
      "cell_type": "code",
      "execution_count": 25,
      "metadata": {
        "id": "p6Mv4xRw5o3K"
      },
      "outputs": [],
      "source": [
        "@tf.function\n",
        "def train_step(images, labels):\n",
        "  with tf.GradientTape() as tape:\n",
        "    # training=True is only needed if there are layers with different\n",
        "    # behavior during training versus inference (e.g. Dropout).\n",
        "    predictions = model(images, training=True)\n",
        "    loss = loss_object(labels, predictions)\n",
        "  gradients = tape.gradient(loss, model.trainable_variables)\n",
        "  optimizer.apply_gradients(zip(gradients, model.trainable_variables))\n",
        "\n",
        "  train_loss(loss)\n",
        "  train_accuracy(labels, predictions)\n",
        "\n",
        "\n",
        "@tf.function\n",
        "def test_step(images, labels):\n",
        "  # training=False is only needed if there are layers with different\n",
        "  # behavior during training versus inference (e.g. Dropout).\n",
        "  predictions = model(images, training=False)\n",
        "  t_loss = loss_object(labels, predictions)\n",
        "\n",
        "  test_loss(t_loss)\n",
        "  test_accuracy(labels, predictions) "
      ]
    },
    {
      "cell_type": "markdown",
      "metadata": {
        "id": "yR4p23J1jhWT"
      },
      "source": [
        "모델 학습 및 성능 평가"
      ]
    },
    {
      "cell_type": "code",
      "execution_count": 26,
      "metadata": {
        "colab": {
          "base_uri": "https://localhost:8080/"
        },
        "id": "tFV5B9H45vUm",
        "outputId": "4f405ee8-1ae9-414e-ae8e-a561a96e959f"
      },
      "outputs": [
        {
          "output_type": "stream",
          "name": "stdout",
          "text": [
            "Epoch 1, Loss: 0.4603573679924011, Accuracy: 83.91500091552734, Test Loss: 0.3610340356826782, Test Accuracy: 87.56999969482422\n",
            "Epoch 2, Loss: 0.31028392910957336, Accuracy: 88.95833587646484, Test Loss: 0.31542038917541504, Test Accuracy: 88.72000122070312\n",
            "Epoch 3, Loss: 0.26618465781211853, Accuracy: 90.40166473388672, Test Loss: 0.29047805070877075, Test Accuracy: 89.58000183105469\n",
            "Epoch 4, Loss: 0.24082112312316895, Accuracy: 91.24833679199219, Test Loss: 0.30318713188171387, Test Accuracy: 89.08000183105469\n",
            "Epoch 5, Loss: 0.21565164625644684, Accuracy: 92.0433349609375, Test Loss: 0.2691597044467926, Test Accuracy: 90.47000122070312\n"
          ]
        }
      ],
      "source": [
        "EPOCHS = 5\n",
        "history = dict(\n",
        "    train_loss = [],\n",
        "    test_loss = [],\n",
        "    train_accuracy = [],\n",
        "    test_accuracy = [],\n",
        ")\n",
        "\n",
        "for epoch in range(EPOCHS):\n",
        "  # Reset the metrics at the start of the next epoch\n",
        "  train_loss.reset_states()\n",
        "  train_accuracy.reset_states()\n",
        "  test_loss.reset_states()\n",
        "  test_accuracy.reset_states()\n",
        "  for images, labels in train_ds:\n",
        "    train_step(images, labels)\n",
        "\n",
        "  for test_images, test_labels in test_ds:\n",
        "    test_step(test_images, test_labels)\n",
        "\n",
        "  print(\n",
        "    f'Epoch {epoch + 1}, '\n",
        "    f'Loss: {train_loss.result()}, '\n",
        "    f'Accuracy: {train_accuracy.result() * 100}, '\n",
        "    f'Test Loss: {test_loss.result()}, '\n",
        "    f'Test Accuracy: {test_accuracy.result() * 100}'\n",
        "  )\n",
        "  history['train_loss'].append(train_loss.result())\n",
        "  history['test_loss'].append(test_loss.result())\n",
        "  history['train_accuracy'].append(train_accuracy.result())\n",
        "  history['test_accuracy'].append(test_accuracy.result())\n"
      ]
    },
    {
      "cell_type": "markdown",
      "metadata": {
        "id": "A7M7FlN92Z_a"
      },
      "source": [
        "## Epoch에 따른 정확도 시각화"
      ]
    },
    {
      "cell_type": "code",
      "execution_count": 27,
      "metadata": {
        "id": "xq1zdyLdKxKV"
      },
      "outputs": [],
      "source": [
        "def accuracy_curve(history, epoch):\n",
        "  plt.figure(figsize=(10,5))\n",
        "  # accuracy 차트\n",
        "  epoch_range = np.arange(1, epoch + 1)\n",
        "\n",
        "  plt.subplot(1, 1, 1)\n",
        "\n",
        "  plt.plot(epoch_range, history['train_accuracy'])\n",
        "  plt.plot(epoch_range, history['test_accuracy'])\n",
        "  plt.title('Model Accuracy')\n",
        "  plt.xlabel('Epoch')\n",
        "  plt.ylabel(\"Accurach\")\n",
        "  plt.legend( ['Train', 'Test']  )\n",
        "\n",
        "  plt.show()"
      ]
    },
    {
      "cell_type": "code",
      "execution_count": 28,
      "metadata": {
        "colab": {
          "base_uri": "https://localhost:8080/",
          "height": 350
        },
        "id": "HRsNU76tU1Yy",
        "outputId": "0fccf8bc-c18e-4fee-b633-eeb5d712b9ea"
      },
      "outputs": [
        {
          "output_type": "display_data",
          "data": {
            "text/plain": [
              "<Figure size 720x360 with 1 Axes>"
            ],
            "image/png": "[encoded data removed]"
          },
          "metadata": {
            "needs_background": "light"
          }
        }
      ],
      "source": [
        "accuracy_curve(history, EPOCHS)"
      ]
    },
    {
      "cell_type": "markdown",
      "metadata": {
        "id": "G-OrP9W6jtUu"
      },
      "source": [
        "## Quiz\n",
        "\n",
        "  - 앞선 DNN 모델 Quiz에서 layer 추가를 통해 정확도 향상 확인\n",
        "  - 아래 `CNN_model` class `Conv2D` layer와 `MaxPool2D` layer를 추가하고 filter 갯수와 Epoch 수도 수정하여 정확도 높은 CNN model 만들기\n",
        "\n",
        "### Hint\n",
        "  - `self.conv2 = tk.layers.Conv2D(filters='#ofFilters', kernel_size='kernael_size(n,n)') `, \n",
        "  `self.maxpool2 = tk.layers.MaxPool2D(pool_size='pool_size(n,n)') `와 같이 새로운 convolution layer 및 pooling layer 추가 가능 "
      ]
    },
    {
      "cell_type": "code",
      "execution_count": 35,
      "metadata": {
        "id": "_tJyNdxDm8G2"
      },
      "outputs": [],
      "source": [
        "class CNN_model(Model):\n",
        "  def __init__(self):\n",
        "    super(CNN_model, self).__init__()\n",
        "    self.conv1 = tk.layers.Conv2D(32, 3, activation='relu')\n",
        "    self.maxpool1 = tk.layers.MaxPool2D(2)\n",
        "    \"\"\"\n",
        "    TODO: 새로운 conv layer 정의\n",
        "    \"\"\"\n",
        "    self.conv2 = tk.layers.Conv2D(64, 3, activation='relu')\n",
        "    self.maxpool2 = tk.layers.MaxPool2D(2)\n",
        "    self.flatten = tk.layers.Flatten()\n",
        "    self.d1 = tk.layers.Dense(128, activation='relu')\n",
        "    self.d2 = tk.layers.Dense(10)\n",
        "\n",
        "  def call(self, x):\n",
        "    x = self.conv1(x)\n",
        "    x = self.maxpool1(x)\n",
        "    \"\"\"\n",
        "    TODO: 새로운 모델 연산식 정의\n",
        "    \"\"\"\n",
        "    x = self.conv2(x)\n",
        "    x = self.maxpool2(x)\n",
        "    x = self.flatten(x)\n",
        "    x = self.d1(x)\n",
        "    return self.d2(x)\n",
        "model = CNN_model()\n",
        "\n",
        "# loss 함수\n",
        "lr = 0.001\n",
        "loss_object = tf.keras.losses.SparseCategoricalCrossentropy(from_logits=True)\n",
        "\n",
        "# optimizer\n",
        "optimizer = tf.keras.optimizers.Adam(learning_rate=lr,)\n",
        "\n",
        "@tf.function\n",
        "def train_step(images, labels):\n",
        "  with tf.GradientTape() as tape:\n",
        "    predictions = model(images)\n",
        "    loss = loss_object(labels, predictions)\n",
        "  gradients = tape.gradient(loss, model.trainable_variables)\n",
        "  optimizer.apply_gradients(zip(gradients, model.trainable_variables))\n",
        "\n",
        "  train_loss(loss)\n",
        "  train_accuracy(labels, predictions)\n",
        "\n",
        "@tf.function\n",
        "def test_step(images, labels):\n",
        "  predictions = model(images)\n",
        "  t_loss = loss_object(labels, predictions)\n",
        "\n",
        "  test_loss(t_loss)\n",
        "  test_accuracy(labels, predictions)"
      ]
    },
    {
      "cell_type": "code",
      "execution_count": 36,
      "metadata": {
        "colab": {
          "base_uri": "https://localhost:8080/"
        },
        "id": "kG6CEz4oootm",
        "outputId": "08b667b1-875e-4270-fdeb-1b5dc2010750"
      },
      "outputs": [
        {
          "output_type": "stream",
          "name": "stdout",
          "text": [
            "Epoch 1, Loss: 0.5127209424972534, Accuracy: 81.7066650390625, Test Loss: 0.3858628571033478, Test Accuracy: 86.20999908447266\n",
            "Epoch 2, Loss: 0.3353278934955597, Accuracy: 87.84000396728516, Test Loss: 0.3290535807609558, Test Accuracy: 88.12999725341797\n",
            "Epoch 3, Loss: 0.2916121780872345, Accuracy: 89.30833435058594, Test Loss: 0.30471867322921753, Test Accuracy: 88.8800048828125\n",
            "Epoch 4, Loss: 0.26162153482437134, Accuracy: 90.47000122070312, Test Loss: 0.2869037687778473, Test Accuracy: 89.56999969482422\n",
            "Epoch 5, Loss: 0.2354448139667511, Accuracy: 91.24333190917969, Test Loss: 0.27172642946243286, Test Accuracy: 90.02999877929688\n",
            "Epoch 6, Loss: 0.21452274918556213, Accuracy: 92.14166259765625, Test Loss: 0.2707816958427429, Test Accuracy: 90.1300048828125\n",
            "Epoch 7, Loss: 0.19729116559028625, Accuracy: 92.63333129882812, Test Loss: 0.2701323628425598, Test Accuracy: 90.3800048828125\n",
            "Epoch 8, Loss: 0.1829875111579895, Accuracy: 93.09333801269531, Test Loss: 0.2549920678138733, Test Accuracy: 90.9000015258789\n",
            "Epoch 9, Loss: 0.1688881367444992, Accuracy: 93.67333221435547, Test Loss: 0.26499518752098083, Test Accuracy: 90.58999633789062\n",
            "Epoch 10, Loss: 0.15570154786109924, Accuracy: 94.20166778564453, Test Loss: 0.25464579463005066, Test Accuracy: 90.8499984741211\n",
            "Epoch 11, Loss: 0.14218658208847046, Accuracy: 94.6883316040039, Test Loss: 0.2669893205165863, Test Accuracy: 91.25\n",
            "Epoch 12, Loss: 0.12773631513118744, Accuracy: 95.20833587646484, Test Loss: 0.2712029814720154, Test Accuracy: 91.29999542236328\n",
            "Epoch 13, Loss: 0.11695429682731628, Accuracy: 95.64167022705078, Test Loss: 0.2883034646511078, Test Accuracy: 90.77999877929688\n",
            "Epoch 14, Loss: 0.10406244546175003, Accuracy: 96.16166687011719, Test Loss: 0.28516414761543274, Test Accuracy: 90.94000244140625\n",
            "Epoch 15, Loss: 0.09499094635248184, Accuracy: 96.49500274658203, Test Loss: 0.28805479407310486, Test Accuracy: 91.54000091552734\n"
          ]
        }
      ],
      "source": [
        "EPOCHS = 15\n",
        "history = dict(\n",
        "    train_loss = [],\n",
        "    test_loss = [],\n",
        "    train_accuracy = [],\n",
        "    test_accuracy = [],\n",
        ")\n",
        "\n",
        "for epoch in range(EPOCHS):\n",
        "  # Reset the metrics at the start of the next epoch\n",
        "  train_loss.reset_states()\n",
        "  train_accuracy.reset_states()\n",
        "  test_loss.reset_states()\n",
        "  test_accuracy.reset_states()\n",
        "  for images, labels in train_ds:\n",
        "    train_step(images, labels)\n",
        "\n",
        "  for test_images, test_labels in test_ds:\n",
        "    test_step(test_images, test_labels)\n",
        "\n",
        "  print(\n",
        "    f'Epoch {epoch + 1}, '\n",
        "    f'Loss: {train_loss.result()}, '\n",
        "    f'Accuracy: {train_accuracy.result() * 100}, '\n",
        "    f'Test Loss: {test_loss.result()}, '\n",
        "    f'Test Accuracy: {test_accuracy.result() * 100}'\n",
        "  )\n",
        "  history['train_loss'].append(train_loss.result())\n",
        "  history['test_loss'].append(test_loss.result())\n",
        "  history['train_accuracy'].append(train_accuracy.result())\n",
        "  history['test_accuracy'].append(test_accuracy.result())"
      ]
    },
    {
      "cell_type": "code",
      "execution_count": null,
      "metadata": {
        "colab": {
          "base_uri": "https://localhost:8080/",
          "height": 350
        },
        "id": "VluSOQOJogRO",
        "outputId": "b5e29fe2-cefe-4cec-b260-b0b0801b7478"
      },
      "outputs": [
        {
          "data": {
            "image/png": "[encoded data removed]",
            "text/plain": [
              "<Figure size 720x360 with 1 Axes>"
            ]
          },
          "metadata": {
            "needs_background": "light"
          },
          "output_type": "display_data"
        }
      ],
      "source": [
        "accuracy_curve(history, EPOCHS)"
      ]
    },
    {
      "cell_type": "code",
      "execution_count": null,
      "metadata": {
        "id": "f_4WOhhkZHpS"
      },
      "outputs": [],
      "source": []
    }
  ],
  "metadata": {
    "accelerator": "GPU",
    "colab": {
      "provenance": []
    },
    "gpuClass": "standard",
    "kernelspec": {
      "display_name": "venv-m4apbh4d-agent",
      "language": "python",
      "name": "python3"
    },
    "language_info": {
      "name": "python",
      "version": "3.9.5 (default, Jul 26 2021, 03:25:17) \n[Clang 12.0.5 (clang-1205.0.22.11)]"
    },
    "vscode": {
      "interpreter": {
        "hash": "bc91204877c4137c2212b1d61d6534ff6dfb04f40855d2e912a8a7e2bf1bc891"
      }
    }
  },
  "nbformat": 4,
  "nbformat_minor": 0
}