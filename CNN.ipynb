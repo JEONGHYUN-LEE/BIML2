{
  "cells": [
    {
      "cell_type": "code",
      "execution_count": 1,
      "metadata": {
        "id": "n0_AtXp63x-D"
      },
      "outputs": [],
      "source": [
        "import tensorflow as tf\n",
        "import tensorflow.keras as tk\n",
        "from tensorflow.keras.layers import Dense, Flatten, Conv2D, MaxPool2D, Dropout\n",
        "from tensorflow.keras import Model\n",
        "import matplotlib.pyplot as plt\n",
        "import numpy as np"
      ]
    },
    {
      "cell_type": "markdown",
      "metadata": {
        "id": "D9IZk8Q0gaYL"
      },
      "source": [
        "# 데이터셋 준비하기"
      ]
    },
    {
      "cell_type": "markdown",
      "metadata": {
        "id": "TVgdN9h1fFLe"
      },
      "source": [
        "## 데이터 불러오기 & 정규화"
      ]
    },
    {
      "cell_type": "code",
      "execution_count": 2,
      "metadata": {
        "colab": {
          "base_uri": "https://localhost:8080/"
        },
        "id": "KGZyLJY937K9",
        "outputId": "b5a04177-a98a-4dc1-8f89-1d11c14f5f96"
      },
      "outputs": [
        {
          "name": "stdout",
          "output_type": "stream",
          "text": [
            "학습 데이터:  (60000, 28, 28) 테스트 데이터:  (10000, 28, 28)\n"
          ]
        }
      ],
      "source": [
        "(x_train, y_train), (x_test, y_test) = tf.keras.datasets.fashion_mnist.load_data()\n",
        "x_train, x_test = x_train / 255.0, x_test / 255.0\n",
        "print(\"학습 데이터: \",x_train.shape, \"테스트 데이터: \",x_test.shape)"
      ]
    },
    {
      "cell_type": "markdown",
      "metadata": {
        "id": "cICAYA1kfL6B"
      },
      "source": [
        "## 이미지 데이터 채널 추가"
      ]
    },
    {
      "cell_type": "code",
      "execution_count": 3,
      "metadata": {
        "colab": {
          "base_uri": "https://localhost:8080/"
        },
        "id": "UUCvW9ei4Dm8",
        "outputId": "63788d0b-ceff-4097-f91c-f9511067c2ab"
      },
      "outputs": [
        {
          "name": "stdout",
          "output_type": "stream",
          "text": [
            "채널 추가 후 학습 데이터:  (60000, 28, 28, 1) 채널 추가 후 테스트 데이터:  (10000, 28, 28, 1)\n"
          ]
        }
      ],
      "source": [
        "# Add a channels dimension\n",
        "x_train = x_train[..., tf.newaxis].astype(\"float32\")\n",
        "x_test = x_test[..., tf.newaxis].astype(\"float32\")\n",
        "print(\"채널 추가 후 학습 데이터: \",x_train.shape, \"채널 추가 후 테스트 데이터: \",x_test.shape)"
      ]
    },
    {
      "cell_type": "markdown",
      "metadata": {
        "id": "i7pkOuSog-Or"
      },
      "source": [
        "## 모델 입력을 위한 batch 단위 입력 분할 및 확인"
      ]
    },
    {
      "cell_type": "code",
      "execution_count": 4,
      "metadata": {
        "colab": {
          "base_uri": "https://localhost:8080/"
        },
        "id": "CNCf5rdU4Iv3",
        "outputId": "db2d2693-b750-455a-d4a7-26e189dd2453"
      },
      "outputs": [
        {
          "name": "stdout",
          "output_type": "stream",
          "text": [
            "(32, 28, 28, 1)\n",
            "(32,)\n"
          ]
        }
      ],
      "source": [
        "train_ds = tf.data.Dataset.from_tensor_slices((x_train, y_train)).shuffle(10000).batch(32)\n",
        "test_ds = tf.data.Dataset.from_tensor_slices((x_test, y_test)).batch(32)\n",
        "# batch 단위 slice된 데이터 확인\n",
        "\n",
        "batch = next(iter(train_ds))\n",
        "for i in range(len(batch)):\n",
        "    print(batch[i].shape)\n"
      ]
    },
    {
      "cell_type": "markdown",
      "metadata": {
        "id": "IVf0eO7DhL6O"
      },
      "source": [
        "# 모델 정의하기"
      ]
    },
    {
      "cell_type": "markdown",
      "metadata": {
        "id": "XFybvZ0IhXBN"
      },
      "source": [
        "Random input 생성"
      ]
    },
    {
      "cell_type": "code",
      "execution_count": 5,
      "metadata": {
        "colab": {
          "base_uri": "https://localhost:8080/"
        },
        "id": "pFPU-EwwhV6m",
        "outputId": "5ad82df4-119d-4652-c629-a6c5ec52f01e"
      },
      "outputs": [
        {
          "name": "stdout",
          "output_type": "stream",
          "text": [
            "random input shape:  (100, 28, 28, 1)\n"
          ]
        }
      ],
      "source": [
        "batch_size = 100\n",
        "input = tf.random.normal(shape=[100, 28, 28, 1])\n",
        "print('random input shape: ', input.shape)"
      ]
    },
    {
      "cell_type": "markdown",
      "metadata": {
        "id": "A7djkClEhrrF"
      },
      "source": [
        "Convolution layer 정의"
      ]
    },
    {
      "cell_type": "code",
      "execution_count": 6,
      "metadata": {
        "id": "oAwveyIChwf6"
      },
      "outputs": [],
      "source": [
        "conv_layer = tk.layers.Conv2D(filters=32, kernel_size=3)"
      ]
    },
    {
      "cell_type": "code",
      "execution_count": 7,
      "metadata": {
        "colab": {
          "base_uri": "https://localhost:8080/"
        },
        "id": "QFWAgk_Piby-",
        "outputId": "cf836883-361d-4eca-ec94-57146ef5e655"
      },
      "outputs": [
        {
          "name": "stdout",
          "output_type": "stream",
          "text": [
            "output shape:  (100, 26, 26, 32)\n"
          ]
        }
      ],
      "source": [
        "output = conv_layer(input)\n",
        "print('output shape: ', output.shape)"
      ]
    },
    {
      "cell_type": "markdown",
      "metadata": {
        "id": "qFbm338rfYIH"
      },
      "source": [
        "## CNN 모델 정의\n",
        "\n",
        "Convolution layer와 Dense layer로 구성된 CNN model을 class로 정의"
      ]
    },
    {
      "cell_type": "code",
      "execution_count": 8,
      "metadata": {
        "id": "17IzZdD-4NiB"
      },
      "outputs": [],
      "source": [
        "class ConvolutionNeuralNet1(Model):\n",
        "  def __init__(self):\n",
        "    super(ConvolutionNeuralNet1, self).__init__()\n",
        "    self.conv1 = tk.layers.Conv2D(32, 3, activation='relu')\n",
        "    self.flatten = tk.layers.Flatten()\n",
        "    self.d1 = tk.layers.Dense(128, activation='relu')\n",
        "    self.d2 = tk.layers.Dense(10)\n",
        "\n",
        "  def call(self, x):\n",
        "    x = self.conv1(x)\n",
        "    x = self.flatten(x)\n",
        "    x = self.d1(x)\n",
        "    return self.d2(x)"
      ]
    },
    {
      "cell_type": "markdown",
      "metadata": {
        "id": "1E_8eEWki3ZS"
      },
      "source": [
        "# 모델 학습"
      ]
    },
    {
      "cell_type": "markdown",
      "metadata": {
        "id": "v_MQ-Neli5i-"
      },
      "source": [
        "모델 인스턴스 생성"
      ]
    },
    {
      "cell_type": "code",
      "execution_count": 9,
      "metadata": {
        "colab": {
          "base_uri": "https://localhost:8080/"
        },
        "id": "cbIEGohsi87c",
        "outputId": "38c14304-d6bb-4882-96c4-7fef396be84c"
      },
      "outputs": [
        {
          "name": "stdout",
          "output_type": "stream",
          "text": [
            "Model: \"convolution_neural_net1\"\n",
            "_________________________________________________________________\n",
            " Layer (type)                Output Shape              Param #   \n",
            "=================================================================\n",
            " conv2d_1 (Conv2D)           multiple                  320       \n",
            "                                                                 \n",
            " flatten (Flatten)           multiple                  0         \n",
            "                                                                 \n",
            " dense (Dense)               multiple                  2769024   \n",
            "                                                                 \n",
            " dense_1 (Dense)             multiple                  1290      \n",
            "                                                                 \n",
            "=================================================================\n",
            "Total params: 2,770,634\n",
            "Trainable params: 2,770,634\n",
            "Non-trainable params: 0\n",
            "_________________________________________________________________\n"
          ]
        }
      ],
      "source": [
        "model = ConvolutionNeuralNet1()\n",
        "input_shape = (1,28,28,1)\n",
        "model.build(input_shape)\n",
        "model.summary()"
      ]
    },
    {
      "cell_type": "markdown",
      "metadata": {
        "id": "-3JHF8rBjL-E"
      },
      "source": [
        "모델 학습을 위한 loss 함수와 optimizer 정의"
      ]
    },
    {
      "cell_type": "code",
      "execution_count": 10,
      "metadata": {
        "id": "Wz5trQTA4ShA"
      },
      "outputs": [],
      "source": [
        "lr = 0.001\n",
        "loss_object = tf.keras.losses.SparseCategoricalCrossentropy(from_logits=True)\n",
        "\n",
        "optimizer = tf.keras.optimizers.Adam(learning_rate=lr,)"
      ]
    },
    {
      "cell_type": "markdown",
      "metadata": {
        "id": "PF_8D7YkjTG0"
      },
      "source": [
        "성능 평가 지표인 평균 loss와 accuracy를 학습 데이터셋과 테스트 데이터셋에 대해서 각각 정의"
      ]
    },
    {
      "cell_type": "code",
      "execution_count": 11,
      "metadata": {
        "id": "eirXt-EG5mW3"
      },
      "outputs": [],
      "source": [
        "train_loss = tf.keras.metrics.Mean(name='train_loss')\n",
        "train_accuracy = tf.keras.metrics.SparseCategoricalAccuracy(name='train_accuracy')\n",
        "\n",
        "test_loss = tf.keras.metrics.Mean(name='test_loss')\n",
        "test_accuracy = tf.keras.metrics.SparseCategoricalAccuracy(name='test_accuracy')"
      ]
    },
    {
      "cell_type": "markdown",
      "metadata": {
        "id": "5FZJDIDUjZX8"
      },
      "source": [
        "## 학습 및 추론 함수 작성"
      ]
    },
    {
      "cell_type": "code",
      "execution_count": 12,
      "metadata": {
        "id": "p6Mv4xRw5o3K"
      },
      "outputs": [],
      "source": [
        "@tf.function\n",
        "def train_step(images, labels):\n",
        "  with tf.GradientTape() as tape:\n",
        "    # training=True is only needed if there are layers with different\n",
        "    # behavior during training versus inference (e.g. Dropout).\n",
        "    predictions = model(images, training=True)\n",
        "    loss = loss_object(labels, predictions)\n",
        "  gradients = tape.gradient(loss, model.trainable_variables)\n",
        "  optimizer.apply_gradients(zip(gradients, model.trainable_variables))\n",
        "\n",
        "  train_loss(loss)\n",
        "  train_accuracy(labels, predictions)\n",
        "\n",
        "\n",
        "@tf.function\n",
        "def test_step(images, labels):\n",
        "  # training=False is only needed if there are layers with different\n",
        "  # behavior during training versus inference (e.g. Dropout).\n",
        "  predictions = model(images, training=False)\n",
        "  t_loss = loss_object(labels, predictions)\n",
        "\n",
        "  test_loss(t_loss)\n",
        "  test_accuracy(labels, predictions) "
      ]
    },
    {
      "cell_type": "markdown",
      "metadata": {
        "id": "yR4p23J1jhWT"
      },
      "source": [
        "모델 학습 및 성능 평가"
      ]
    },
    {
      "cell_type": "code",
      "execution_count": 13,
      "metadata": {
        "colab": {
          "base_uri": "https://localhost:8080/"
        },
        "id": "tFV5B9H45vUm",
        "outputId": "6d69ebf2-623c-44ae-b078-2c0810f0aa6d"
      },
      "outputs": [
        {
          "name": "stdout",
          "output_type": "stream",
          "text": [
            "Epoch 1, Loss: 0.37847650051116943, Accuracy: 86.34666442871094, Test Loss: 0.3139806091785431, Test Accuracy: 88.22000122070312\n",
            "Epoch 2, Loss: 0.24738913774490356, Accuracy: 90.90999603271484, Test Loss: 0.2693077623844147, Test Accuracy: 90.10000610351562\n",
            "Epoch 3, Loss: 0.19245246052742004, Accuracy: 92.86666870117188, Test Loss: 0.2732095420360565, Test Accuracy: 90.34000396728516\n",
            "Epoch 4, Loss: 0.15228691697120667, Accuracy: 94.38833618164062, Test Loss: 0.2755270302295685, Test Accuracy: 90.93000030517578\n",
            "Epoch 5, Loss: 0.11627594381570816, Accuracy: 95.71333312988281, Test Loss: 0.2884864807128906, Test Accuracy: 90.97999572753906\n"
          ]
        }
      ],
      "source": [
        "EPOCHS = 5\n",
        "history = dict(\n",
        "    train_loss = [],\n",
        "    test_loss = [],\n",
        "    train_accuracy = [],\n",
        "    test_accuracy = [],\n",
        ")\n",
        "\n",
        "for epoch in range(EPOCHS):\n",
        "  # Reset the metrics at the start of the next epoch\n",
        "  train_loss.reset_states()\n",
        "  train_accuracy.reset_states()\n",
        "  test_loss.reset_states()\n",
        "  test_accuracy.reset_states()\n",
        "  for images, labels in train_ds:\n",
        "    train_step(images, labels)\n",
        "\n",
        "  for test_images, test_labels in test_ds:\n",
        "    test_step(test_images, test_labels)\n",
        "\n",
        "  print(\n",
        "    f'Epoch {epoch + 1}, '\n",
        "    f'Loss: {train_loss.result()}, '\n",
        "    f'Accuracy: {train_accuracy.result() * 100}, '\n",
        "    f'Test Loss: {test_loss.result()}, '\n",
        "    f'Test Accuracy: {test_accuracy.result() * 100}'\n",
        "  )\n",
        "  history['train_loss'].append(train_loss.result())\n",
        "  history['test_loss'].append(test_loss.result())\n",
        "  history['train_accuracy'].append(train_accuracy.result())\n",
        "  history['test_accuracy'].append(test_accuracy.result())\n"
      ]
    },
    {
      "attachments": {},
      "cell_type": "markdown",
      "metadata": {},
      "source": [
        "## Epoch에 따른 정확도 시각화"
      ]
    },
    {
      "cell_type": "code",
      "execution_count": 14,
      "metadata": {
        "id": "xq1zdyLdKxKV"
      },
      "outputs": [],
      "source": [
        "def accuracy_curve(history, epoch):\n",
        "  plt.figure(figsize=(10,5))\n",
        "  # accuracy 차트\n",
        "  epoch_range = np.arange(1, epoch + 1)\n",
        "\n",
        "  plt.subplot(1, 1, 1)\n",
        "\n",
        "  plt.plot(epoch_range, history['train_accuracy'])\n",
        "  plt.plot(epoch_range, history['test_accuracy'])\n",
        "  plt.title('Model Accuracy')\n",
        "  plt.xlabel('Epoch')\n",
        "  plt.ylabel(\"Accurach\")\n",
        "  plt.legend( ['Train', 'Test']  )\n",
        "\n",
        "  plt.show()"
      ]
    },
    {
      "cell_type": "code",
      "execution_count": 15,
      "metadata": {
        "colab": {
          "base_uri": "https://localhost:8080/",
          "height": 350
        },
        "id": "HRsNU76tU1Yy",
        "outputId": "7e102f59-bc3b-4ac1-e608-081ab5ff2b20"
      },
      "outputs": [
        {
          "data": {
            "image/png": "[encoded data removed]",
            "text/plain": [
              "<Figure size 720x360 with 1 Axes>"
            ]
          },
          "metadata": {
            "needs_background": "light"
          },
          "output_type": "display_data"
        }
      ],
      "source": [
        "accuracy_curve(history, EPOCHS)"
      ]
    },
    {
      "attachments": {},
      "cell_type": "markdown",
      "metadata": {
        "id": "G-OrP9W6jtUu"
      },
      "source": [
        "## Quiz\n",
        "\n",
        "  - 앞선 DNN 모델 Quiz에서 layer 추가를 통해 정확도 향상 확인\n",
        "  - 아래 `CNN_model` class `Conv2D` layer를 추가해서 정확도 높은 CNN model 만들기\n",
        "\n",
        "### Hint\n",
        "  - `self.conv2 = tk.layers.Conv2D(filters='#ofFilters', kernel_size='kernael_size(n,n)') `와 같이 새로운 convolution layer 추가 가능 "
      ]
    },
    {
      "cell_type": "code",
      "execution_count": 17,
      "metadata": {
        "id": "_tJyNdxDm8G2"
      },
      "outputs": [],
      "source": [
        "class CNN_model(Model):\n",
        "  def __init__(self):\n",
        "    super(CNN_model, self).__init__()\n",
        "    self.conv1 = tk.layers.Conv2D(32, 3, activation='relu')\n",
        "    \"\"\"\n",
        "    TODO: 새로운 conv layer 정의\n",
        "    \"\"\"\n",
        "    self.flatten = tk.layers.Flatten()\n",
        "    self.d1 = tk.layers.Dense(128, activation='relu')\n",
        "    self.d2 = tk.layers.Dense(10)\n",
        "\n",
        "  def call(self, x):\n",
        "    x = self.conv1(x)\n",
        "    \"\"\"\n",
        "    TODO: 새로운 모델 연산식 정의\n",
        "    \"\"\"\n",
        "    x = self.flatten(x)\n",
        "    x = self.d1(x)\n",
        "    return self.d2(x)\n",
        "model = CNN_model()\n",
        "\n",
        "# loss 함수\n",
        "lr = 0.001\n",
        "loss_object = tf.keras.losses.SparseCategoricalCrossentropy(from_logits=True)\n",
        "\n",
        "# optimizer\n",
        "optimizer = tf.keras.optimizers.Adam(learning_rate=lr,)\n",
        "\n",
        "@tf.function\n",
        "def train_step(images, labels):\n",
        "  with tf.GradientTape() as tape:\n",
        "    predictions = model(images)\n",
        "    loss = loss_object(labels, predictions)\n",
        "  gradients = tape.gradient(loss, model.trainable_variables)\n",
        "  optimizer.apply_gradients(zip(gradients, model.trainable_variables))\n",
        "\n",
        "  train_loss(loss)\n",
        "  train_accuracy(labels, predictions)\n",
        "\n",
        "@tf.function\n",
        "def test_step(images, labels):\n",
        "  predictions = model(images)\n",
        "  t_loss = loss_object(labels, predictions)\n",
        "\n",
        "  test_loss(t_loss)\n",
        "  test_accuracy(labels, predictions)"
      ]
    },
    {
      "cell_type": "code",
      "execution_count": null,
      "metadata": {
        "id": "kG6CEz4oootm"
      },
      "outputs": [],
      "source": [
        "EPOCHS = 5\n",
        "history = dict(\n",
        "    train_loss = [],\n",
        "    test_loss = [],\n",
        "    train_accuracy = [],\n",
        "    test_accuracy = [],\n",
        ")\n",
        "\n",
        "for epoch in range(EPOCHS):\n",
        "  # Reset the metrics at the start of the next epoch\n",
        "  train_loss.reset_states()\n",
        "  train_accuracy.reset_states()\n",
        "  test_loss.reset_states()\n",
        "  test_accuracy.reset_states()\n",
        "  for images, labels in train_ds:\n",
        "    train_step(images, labels)\n",
        "\n",
        "  for test_images, test_labels in test_ds:\n",
        "    test_step(test_images, test_labels)\n",
        "\n",
        "  print(\n",
        "    f'Epoch {epoch + 1}, '\n",
        "    f'Loss: {train_loss.result()}, '\n",
        "    f'Accuracy: {train_accuracy.result() * 100}, '\n",
        "    f'Test Loss: {test_loss.result()}, '\n",
        "    f'Test Accuracy: {test_accuracy.result() * 100}'\n",
        "  )\n",
        "  history['train_loss'].append(train_loss.result())\n",
        "  history['test_loss'].append(test_loss.result())\n",
        "  history['train_accuracy'].append(train_accuracy.result())\n",
        "  history['test_accuracy'].append(test_accuracy.result())"
      ]
    },
    {
      "cell_type": "code",
      "execution_count": null,
      "metadata": {
        "id": "VluSOQOJogRO"
      },
      "outputs": [],
      "source": [
        "accuracy_curve(history, EPOCHS)"
      ]
    },
    {
      "cell_type": "code",
      "execution_count": null,
      "metadata": {
        "id": "f_4WOhhkZHpS"
      },
      "outputs": [],
      "source": []
    }
  ],
  "metadata": {
    "accelerator": "GPU",
    "colab": {
      "provenance": []
    },
    "gpuClass": "standard",
    "kernelspec": {
      "display_name": "venv-m4apbh4d-agent",
      "language": "python",
      "name": "python3"
    },
    "language_info": {
      "name": "python",
      "version": "3.9.5 (default, Jul 26 2021, 03:25:17) \n[Clang 12.0.5 (clang-1205.0.22.11)]"
    },
    "vscode": {
      "interpreter": {
        "hash": "bc91204877c4137c2212b1d61d6534ff6dfb04f40855d2e912a8a7e2bf1bc891"
      }
    }
  },
  "nbformat": 4,
  "nbformat_minor": 0
}
